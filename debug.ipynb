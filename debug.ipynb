{
 "cells": [
  {
   "cell_type": "code",
   "execution_count": 1,
   "metadata": {},
   "outputs": [],
   "source": [
    "import torch\n",
    "\n",
    "# load dictionary pytorch\n",
    "\n",
    "dictionary = torch.load('test_data.pt')\n"
   ]
  },
  {
   "cell_type": "code",
   "execution_count": 2,
   "metadata": {},
   "outputs": [],
   "source": [
    "all_listener_emotion_pred = dictionary['all_listener_emotion_pred']\n",
    "listener_emotion_pred = dictionary['listener_emotion_pred']\n",
    "listener_emotion_gt = dictionary['listener_emotion_gt']\n",
    "speaker_emotion_gt = dictionary['speaker_emotion_gt']\n",
    "\n"
   ]
  },
  {
   "cell_type": "code",
   "execution_count": 3,
   "metadata": {},
   "outputs": [
    {
     "name": "stderr",
     "output_type": "stream",
     "text": [
      "/home/tien/miniconda3/envs/react_pt3d/lib/python3.8/site-packages/tslearn/bases/bases.py:15: UserWarning: h5py not installed, hdf5 features will not be supported.\n",
      "Install h5py to use hdf5 features: http://docs.h5py.org/\n",
      "  warn(h5py_msg)\n"
     ]
    }
   ],
   "source": [
    "from metric.FRC import compute_FRC, compute_FRC_mp\n",
    "from metric.FRD import compute_FRD, compute_FRD_mp\n",
    "from metric.FRDvs import compute_FRDvs\n",
    "from metric.FRVar import compute_FRVar\n",
    "from metric.S_MSE import compute_s_mse\n",
    "from metric.TLCC import compute_TLCC, compute_TLCC_mp"
   ]
  },
  {
   "cell_type": "code",
   "execution_count": 4,
   "metadata": {},
   "outputs": [],
   "source": [
    "p=8\n",
    "TLCC = compute_TLCC_mp(all_listener_emotion_pred, speaker_emotion_gt, \n",
    "                            p=p\n",
    "                            )"
   ]
  },
  {
   "cell_type": "code",
   "execution_count": 10,
   "metadata": {},
   "outputs": [
    {
     "data": {
      "text/plain": [
       "48.5"
      ]
     },
     "execution_count": 10,
     "metadata": {},
     "output_type": "execute_result"
    }
   ],
   "source": [
    "TLCC"
   ]
  },
  {
   "cell_type": "code",
   "execution_count": 6,
   "metadata": {},
   "outputs": [],
   "source": [
    "import argparse\n",
    "\n",
    "\n",
    "class Args(argparse.Namespace):\n",
    "    dataset_path = \"/home/tien/playground_facereconstruction/data/react_2024\"\n",
    "\n",
    "  \n",
    "args = Args()\n",
    "\n",
    "FRC = compute_FRC_mp(\n",
    "            args, all_listener_emotion_pred, listener_emotion_gt, val_test=\"val\", \n",
    "            p=p\n",
    "        )"
   ]
  },
  {
   "cell_type": "code",
   "execution_count": 7,
   "metadata": {},
   "outputs": [
    {
     "data": {
      "text/plain": [
       "0.002854092076417587"
      ]
     },
     "execution_count": 7,
     "metadata": {},
     "output_type": "execute_result"
    }
   ],
   "source": [
    "FRC "
   ]
  },
  {
   "cell_type": "code",
   "execution_count": 8,
   "metadata": {},
   "outputs": [
    {
     "data": {
      "text/plain": [
       "5.489070851915524"
      ]
     },
     "execution_count": 8,
     "metadata": {},
     "output_type": "execute_result"
    }
   ],
   "source": [
    "FRD = compute_FRD_mp(\n",
    "            args, all_listener_emotion_pred, listener_emotion_gt, val_test=\"val\", \n",
    "            p=p\n",
    "        )\n",
    "FRD"
   ]
  },
  {
   "cell_type": "code",
   "execution_count": 9,
   "metadata": {},
   "outputs": [
    {
     "data": {
      "text/plain": [
       "(tensor(0.0119), tensor(6.9034e-05), 0.0)"
      ]
     },
     "execution_count": 9,
     "metadata": {},
     "output_type": "execute_result"
    }
   ],
   "source": [
    "FRDvs = compute_FRDvs(all_listener_emotion_pred)\n",
    "\n",
    "FRVar = compute_FRVar(all_listener_emotion_pred)\n",
    "smse = compute_s_mse(all_listener_emotion_pred)\n",
    "FRDvs, FRVar, smse"
   ]
  }
 ],
 "metadata": {
  "kernelspec": {
   "display_name": "react_pt3d",
   "language": "python",
   "name": "python3"
  },
  "language_info": {
   "codemirror_mode": {
    "name": "ipython",
    "version": 3
   },
   "file_extension": ".py",
   "mimetype": "text/x-python",
   "name": "python",
   "nbconvert_exporter": "python",
   "pygments_lexer": "ipython3",
   "version": "3.8.18"
  },
  "orig_nbformat": 4
 },
 "nbformat": 4,
 "nbformat_minor": 2
}
